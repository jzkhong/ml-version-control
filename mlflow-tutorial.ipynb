{
 "cells": [
  {
   "cell_type": "code",
   "execution_count": 1,
   "id": "b51db56c-d699-470b-a501-c2b9f1ef13b7",
   "metadata": {},
   "outputs": [],
   "source": [
    "import mlflow\n",
    "from mlflow.models import infer_signature\n",
    "import pandas as pd\n",
    "from sklearn import datasets\n",
    "from sklearn.model_selection import train_test_split\n",
    "from sklearn.linear_model import LogisticRegression\n",
    "from sklearn.metrics import accuracy_score\n",
    "\n",
    "# Load the Iris dataset\n",
    "X, y = datasets.load_iris(return_X_y=True)\n",
    "# Split the data into training and test sets\n",
    "X_train, X_test, y_train, y_test = train_test_split(X, y, test_size=0.3, random_state=42, stratify=y)\n",
    "# Define the model hyperparameters\n",
    "params = {\"solver\": \"lbfgs\",\"max_iter\": 500,\"multi_class\": \"auto\",\"random_state\": 42,}\n",
    "# Train the model\n",
    "lr = LogisticRegression(**params)\n",
    "lr.fit(X_train, y_train)\n",
    "# Predict on the test set\n",
    "y_pred = lr.predict(X_test)\n",
    "# Calculate accuracy\n",
    "accuracy = accuracy_score(y_test, y_pred)"
   ]
  },
  {
   "cell_type": "code",
   "execution_count": 2,
   "id": "9cb3a167-f0d4-4b96-b69a-7fe4aff7c5c3",
   "metadata": {},
   "outputs": [
    {
     "name": "stderr",
     "output_type": "stream",
     "text": [
      "2024/04/01 12:09:34 INFO mlflow.tracking.fluent: Experiment with name 'MLflow Quick Tutorial' does not exist. Creating a new experiment.\n",
      "Successfully registered model 'logistic regressor'.\n",
      "2024/04/01 12:09:37 INFO mlflow.store.model_registry.abstract_store: Waiting up to 300 seconds for model version to finish creation. Model name: logistic regressor, version 1\n",
      "Created version '1' of model 'logistic regressor'.\n"
     ]
    }
   ],
   "source": [
    "# Set the tracking server uri for logging\n",
    "mlflow.set_tracking_uri(uri=\"http://127.0.0.1:8080\")\n",
    "# Name the MLflow Experiment\n",
    "mlflow.set_experiment(\"MLflow Quick Tutorial\")\n",
    "\n",
    "# Start an MLflow run\n",
    "with mlflow.start_run():\n",
    "    # Log the hyperparameters\n",
    "    mlflow.log_params(params)\n",
    "    # Log the accuracy metric\n",
    "    mlflow.log_metric(\"accuracy\", accuracy)\n",
    "    # Set a tag that we can use to remind ourselves what this run was for\n",
    "    mlflow.set_tag(\"Training Info\", \"Basic LR model for iris data\")\n",
    "    # Infer the model signature\n",
    "    signature = infer_signature(X_train, lr.predict(X_train))\n",
    "    # Log the model\n",
    "    model_info = mlflow.sklearn.log_model(sk_model=lr, artifact_path=\"iris_model\", signature=signature, \n",
    "                                          input_example=X_train, registered_model_name=\"logistic regressor\",)"
   ]
  },
  {
   "cell_type": "code",
   "execution_count": 3,
   "id": "7f5c297e-f245-4d6d-8941-f250adfbfc8b",
   "metadata": {},
   "outputs": [
    {
     "name": "stderr",
     "output_type": "stream",
     "text": [
      "/Users/jingzhikhong/Library/Python/3.10/lib/python/site-packages/_distutils_hack/__init__.py:18: UserWarning: Distutils was imported before Setuptools, but importing Setuptools also replaces the `distutils` module in `sys.modules`. This may lead to undesirable behaviors or errors. To avoid these issues, avoid using distutils directly, ensure that setuptools is installed in the traditional way (e.g. not an editable install), and/or make sure that setuptools is always imported before distutils.\n",
      "  warnings.warn(\n",
      "/Users/jingzhikhong/Library/Python/3.10/lib/python/site-packages/_distutils_hack/__init__.py:33: UserWarning: Setuptools is replacing distutils.\n",
      "  warnings.warn(\"Setuptools is replacing distutils.\")\n",
      "Registered model 'logistic regressor' already exists. Creating a new version of this model...\n",
      "2024/04/01 12:41:37 INFO mlflow.store.model_registry.abstract_store: Waiting up to 300 seconds for model version to finish creation. Model name: logistic regressor, version 2\n",
      "Created version '2' of model 'logistic regressor'.\n"
     ]
    }
   ],
   "source": [
    "# Re-train the model on same data but with a different set of parameters\n",
    "params = {\"solver\": \"liblinear\",\"max_iter\": 1000,\"multi_class\": \"auto\",\"random_state\": 42,}\n",
    "lr = LogisticRegression(**params)\n",
    "lr.fit(X_train, y_train)\n",
    "# Predict on the test set\n",
    "y_pred = lr.predict(X_test)\n",
    "# Calculate accuracy\n",
    "accuracy = accuracy_score(y_test, y_pred)\n",
    "\n",
    "# Start an MLflow run\n",
    "with mlflow.start_run():\n",
    "    # Log the hyperparameters\n",
    "    mlflow.log_params(params)\n",
    "    # Log the accuracy metric\n",
    "    mlflow.log_metric(\"accuracy\", accuracy)\n",
    "    # Set a tag that we can use to remind ourselves what this run was for\n",
    "    mlflow.set_tag(\"Training Info\", \"Basic LR model for iris data\")\n",
    "    # Infer the model signature\n",
    "    signature = infer_signature(X_train, lr.predict(X_train))\n",
    "    # Log the model\n",
    "    model_info = mlflow.sklearn.log_model(sk_model=lr, artifact_path=\"iris_model\", signature=signature, \n",
    "                                          input_example=X_train, registered_model_name=\"logistic regressor\",)"
   ]
  }
 ],
 "metadata": {
  "kernelspec": {
   "display_name": "Python 3 (ipykernel)",
   "language": "python",
   "name": "python3"
  },
  "language_info": {
   "codemirror_mode": {
    "name": "ipython",
    "version": 3
   },
   "file_extension": ".py",
   "mimetype": "text/x-python",
   "name": "python",
   "nbconvert_exporter": "python",
   "pygments_lexer": "ipython3",
   "version": "3.10.11"
  }
 },
 "nbformat": 4,
 "nbformat_minor": 5
}
